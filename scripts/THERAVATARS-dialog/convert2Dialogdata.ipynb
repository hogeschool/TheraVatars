{
 "cells": [
  {
   "cell_type": "code",
   "execution_count": 2,
   "metadata": {},
   "outputs": [
    {
     "name": "stdout",
     "output_type": "stream",
     "text": [
      "De getransformeerde gegevens zijn opgeslagen in: ~/workspace/THERAVATARS_NN/base/transformed_transcript3.csv\n"
     ]
    }
   ],
   "source": [
    "import pandas as pd\n",
    "import re\n",
    "\n",
    "# Lees het input CSV-bestand\n",
    "input_file = \"~/workspace/THERAVATARS_NN/base/merged_transcript.csv\"\n",
    "output_file = \"~/workspace/THERAVATARS_NN/base/transformed_transcript3.csv\"\n",
    "\n",
    "# Lees de CSV in een DataFrame (pas de separator aan indien nodig)\n",
    "df = pd.read_csv(input_file, sep=\",\")  # ';' is de standaard separator in veel Europese regio's\n",
    "\n",
    "# Zorg ervoor dat de kolomnamen correct zijn\n",
    "df.columns = df.columns.str.strip()  # Verwijder eventuele witruimte rondom kolomnamen\n",
    "\n",
    "# Functie om tekst tussen haakjes te extraheren\n",
    "def extract_parentheses(value):\n",
    "    match = re.search(r\"\\((.*?)\\)\", value)\n",
    "    return match.group(1) if match else value  # Als geen haakjes, gebruik originele waarde\n",
    "\n",
    "# Pas de extract_parentheses-functie toe op de 'value'-kolom\n",
    "df['value'] = df['value'].apply(extract_parentheses)\n",
    "\n",
    "# Initialiseer nieuwe kolommen voor de getransformeerde data\n",
    "participant_prompt = []\n",
    "response_ellie = []\n",
    "start_time = []\n",
    "stop_time = []\n",
    "\n",
    "# Transformeer de gegevens\n",
    "i = 0\n",
    "while i < len(df):\n",
    "    if df.loc[i, 'speaker'] == \"Participant\":\n",
    "        participant_response = df.loc[i, 'value']\n",
    "        if i + 1 < len(df) and df.loc[i + 1, 'speaker'] == \"Ellie\":\n",
    "            ellie_response = df.loc[i + 1, 'value']\n",
    "            start_time.append(df.loc[i, 'start_time'])\n",
    "            stop_time.append(df.loc[i + 1, 'stop_time'])\n",
    "            participant_prompt.append(participant_response)\n",
    "            response_ellie.append(ellie_response)\n",
    "            i += 2  # Ga naar de volgende set\n",
    "        else:\n",
    "            # Geen Ellie-respons, hou deze leeg\n",
    "            start_time.append(df.loc[i, 'start_time'])\n",
    "            stop_time.append(df.loc[i, 'stop_time'])\n",
    "            participant_prompt.append(participant_response)\n",
    "            response_ellie.append(\"\")\n",
    "            i += 1\n",
    "    else:\n",
    "        i += 1  # Overslaan als de eerste regel geen 'Participant' is\n",
    "\n",
    "# Creëer een nieuwe DataFrame met het gewenste formaat\n",
    "transformed_df = pd.DataFrame({\n",
    "    'start_time': start_time,\n",
    "    'stop_time': stop_time,\n",
    "    'participant_prompt': participant_prompt,\n",
    "    'response_ellie': response_ellie\n",
    "})\n",
    "\n",
    "# Sla de getransformeerde data op in een nieuw CSV-bestand\n",
    "transformed_df.to_csv(output_file, index=False, sep=\";\")  # ';' als separator om consistent te blijven met de input\n",
    "\n",
    "# Feedback aan de gebruiker\n",
    "print(f\"De getransformeerde gegevens zijn opgeslagen in: {output_file}\")\n"
   ]
  }
 ],
 "metadata": {
  "kernelspec": {
   "display_name": "Python 3",
   "language": "python",
   "name": "python3"
  },
  "language_info": {
   "codemirror_mode": {
    "name": "ipython",
    "version": 3
   },
   "file_extension": ".py",
   "mimetype": "text/x-python",
   "name": "python",
   "nbconvert_exporter": "python",
   "pygments_lexer": "ipython3",
   "version": "3.10.12"
  }
 },
 "nbformat": 4,
 "nbformat_minor": 2
}
